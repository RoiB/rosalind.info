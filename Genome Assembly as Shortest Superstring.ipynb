{
 "metadata": {
  "name": "",
  "signature": "sha256:a1e68ea57503b98f5cc4fd06b697ce57668ac1ee4969bff870d75aea6cc14f17"
 },
 "nbformat": 3,
 "nbformat_minor": 0,
 "worksheets": [
  {
   "cells": [
    {
     "cell_type": "code",
     "collapsed": false,
     "input": [
      "from Bio import SeqIO\n",
      "from Bio import Seq"
     ],
     "language": "python",
     "metadata": {},
     "outputs": [],
     "prompt_number": 16
    },
    {
     "cell_type": "code",
     "collapsed": false,
     "input": [
      "seq_records = [_ for _ in SeqIO.parse(\"/Users/richard/Downloads/rosalind_long.txt\",'fasta')]"
     ],
     "language": "python",
     "metadata": {},
     "outputs": [],
     "prompt_number": 136
    },
    {
     "cell_type": "code",
     "collapsed": false,
     "input": [
      "seq_strings = [str(seq.seq) for seq in seq_records]"
     ],
     "language": "python",
     "metadata": {},
     "outputs": [],
     "prompt_number": 137
    },
    {
     "cell_type": "code",
     "collapsed": false,
     "input": [
      "def right_merge(result, seq_string):\n",
      "    if seq_string in result: return result\n",
      "    mid =  len(seq_string)//2\n",
      "    if seq_string[:mid] in result:\n",
      "        while seq_string[:mid] in result: mid += 1\n",
      "        return result + seq_string[mid-1:]\n",
      "    else:\n",
      "        return False"
     ],
     "language": "python",
     "metadata": {},
     "outputs": [],
     "prompt_number": 138
    },
    {
     "cell_type": "code",
     "collapsed": false,
     "input": [
      "def left_merge(result,seq_string):\n",
      "    if seq_string in result: return result\n",
      "    mid =  len(seq_string)//2\n",
      "    if seq_string[mid:] in result:\n",
      "        while seq_string[mid:] in result: mid -= 1\n",
      "        return seq_string[:mid+1]+result\n",
      "    else:\n",
      "        return False"
     ],
     "language": "python",
     "metadata": {},
     "outputs": [],
     "prompt_number": 139
    },
    {
     "cell_type": "code",
     "collapsed": false,
     "input": [
      "def merge(result,seq_string):\n",
      "    left_merged = left_merge(result,seq_string)\n",
      "    if not left_merged:\n",
      "        return right_merge(result, seq_string)\n",
      "    else:\n",
      "        right_merged = right_merge(result,seq_string)\n",
      "        if right_merged: \n",
      "            return min(right_merged,left_merged,key = len)\n",
      "        else:\n",
      "            return left_merged"
     ],
     "language": "python",
     "metadata": {},
     "outputs": [],
     "prompt_number": 140
    },
    {
     "cell_type": "code",
     "collapsed": false,
     "input": [
      "result, other_strings = seq_strings[0], seq_strings[1:]\n",
      "while other_strings:\n",
      "    merged_indices = []\n",
      "    n = len(other_strings)\n",
      "    for i in range(n):\n",
      "        temp =  merge(result,other_strings[i])\n",
      "        if temp:\n",
      "            result = temp\n",
      "            merged_indices.append(i)\n",
      "    while merged_indices:\n",
      "        other_strings.pop(merged_indices.pop())"
     ],
     "language": "python",
     "metadata": {},
     "outputs": [],
     "prompt_number": 142
    },
    {
     "cell_type": "code",
     "collapsed": false,
     "input": [
      "with open(\"/Users/richard/Downloads/output\",\"w\") as file:\n",
      "    for i in result: file.write(i)"
     ],
     "language": "python",
     "metadata": {},
     "outputs": [],
     "prompt_number": 144
    }
   ],
   "metadata": {}
  }
 ]
}