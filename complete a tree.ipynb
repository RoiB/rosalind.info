{
 "metadata": {
  "name": "",
  "signature": "sha256:4eaf95350c5f538af1b3038e038e74b55268f864c0785797849f13eb933890b9"
 },
 "nbformat": 3,
 "nbformat_minor": 0,
 "worksheets": [
  {
   "cells": [
    {
     "cell_type": "code",
     "collapsed": false,
     "input": [
      "'''\n",
      "The whole point of this problem is to find out the difference between number of edges and nodes require to make the WHOLE graph\n",
      "a tree.\n",
      "'''\n",
      "def readfile(filename):\n",
      "    with open(filename) as file:\n",
      "        n_node = int(file.readline())\n",
      "        n_edge = 0\n",
      "        edges = {i:set() for i in range(1,n+1)}\n",
      "        while True:\n",
      "            item = file.readline()\n",
      "            if len(item) is 0:\n",
      "                return n_node,n_edge\n",
      "                break \n",
      "            else:\n",
      "                n_edge += 1"
     ],
     "language": "python",
     "metadata": {},
     "outputs": [],
     "prompt_number": 38
    },
    {
     "cell_type": "code",
     "collapsed": false,
     "input": [
      "n_node, n_edge = readfile(\"/Users/richard/Downloads/rosalind_tree.txt\")"
     ],
     "language": "python",
     "metadata": {},
     "outputs": [],
     "prompt_number": 41
    },
    {
     "cell_type": "code",
     "collapsed": false,
     "input": [
      "n_node-n_edge-1"
     ],
     "language": "python",
     "metadata": {},
     "outputs": [
      {
       "metadata": {},
       "output_type": "pyout",
       "prompt_number": 42,
       "text": [
        "51"
       ]
      }
     ],
     "prompt_number": 42
    }
   ],
   "metadata": {}
  }
 ]
}